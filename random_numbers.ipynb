{
 "cells": [
  {
   "cell_type": "code",
   "execution_count": 11,
   "metadata": {},
   "outputs": [],
   "source": [
    "# Import the random module.\n",
    "import random\n",
    "# Import the NumPy module.\n",
    "import numpy as np"
   ]
  },
  {
   "cell_type": "code",
   "execution_count": 8,
   "metadata": {},
   "outputs": [
    {
     "data": {
      "text/plain": [
       "-30"
      ]
     },
     "execution_count": 8,
     "metadata": {},
     "output_type": "execute_result"
    }
   ],
   "source": [
    "random.randint(-90,90)"
   ]
  },
  {
   "cell_type": "code",
   "execution_count": 10,
   "metadata": {},
   "outputs": [
    {
     "data": {
      "text/plain": [
       "[50.419713356491755,\n",
       " -82.77550046456894,\n",
       " -47.960511369328216,\n",
       " -53.360264530758215,\n",
       " -40.424857608615895,\n",
       " 53.38269983466207,\n",
       " 41.66588856919751,\n",
       " -39.073911314733614,\n",
       " -19.309456741267784,\n",
       " 81.07224010283461]"
      ]
     },
     "execution_count": 10,
     "metadata": {},
     "output_type": "execute_result"
    }
   ],
   "source": [
    "x = 1\n",
    "latitudes = []\n",
    "while x < 11:\n",
    "    random_lat = random.randint(-90, 89) + random.random()\n",
    "    latitudes.append(random_lat)\n",
    "    x += 1\n",
    "latitudes"
   ]
  },
  {
   "cell_type": "code",
   "execution_count": 12,
   "metadata": {},
   "outputs": [
    {
     "data": {
      "text/plain": [
       "10.66533093919017"
      ]
     },
     "execution_count": 12,
     "metadata": {},
     "output_type": "execute_result"
    }
   ],
   "source": [
    "np.random.uniform(-90.000, 90.000)"
   ]
  },
  {
   "cell_type": "code",
   "execution_count": 14,
   "metadata": {},
   "outputs": [
    {
     "data": {
      "text/plain": [
       "array([ 22.35509425,  12.55459545, -63.28230263, -77.41169873,\n",
       "       -19.66336593,  15.70462354,   9.76408029, -78.26819855,\n",
       "       -12.18821443,  65.83835153,  10.18016992,  -4.8423251 ,\n",
       "        47.19622941, -57.18623233, -10.39797381,  -3.49568239,\n",
       "       -67.49948881, -77.72773144, -25.25803033,  77.16885213,\n",
       "        22.25634459, -17.17111334,  15.49961688,  77.49145868,\n",
       "       -66.52901329,  33.48373659, -20.88538283,  75.42329026,\n",
       "        69.30491644,   8.78261889, -41.72787508, -65.4716733 ,\n",
       "       -25.63245712,  45.4292915 ,  75.97815813,  61.95376945,\n",
       "       -35.88496888,  64.21887765,  13.79616496,  14.53624839,\n",
       "       -73.43478434,  76.56604422,  -6.82764518,  89.67169258,\n",
       "        10.82371479,  38.01959655,  55.86408532, -20.58862908,\n",
       "       -64.18938488,   8.8983136 ])"
      ]
     },
     "execution_count": 14,
     "metadata": {},
     "output_type": "execute_result"
    }
   ],
   "source": [
    "np.random.uniform(-90.000, 90.000, size=50)"
   ]
  },
  {
   "cell_type": "code",
   "execution_count": 15,
   "metadata": {},
   "outputs": [
    {
     "data": {
      "text/plain": [
       "array([ 82.86466029,  31.78792583,  24.71958014, ..., -33.84553431,\n",
       "        56.41344194,  -3.18757546])"
      ]
     },
     "execution_count": 15,
     "metadata": {},
     "output_type": "execute_result"
    }
   ],
   "source": [
    "np.random.uniform(-90.000, 90.000, size=1500)"
   ]
  },
  {
   "cell_type": "code",
   "execution_count": null,
   "metadata": {},
   "outputs": [],
   "source": []
  }
 ],
 "metadata": {
  "kernelspec": {
   "display_name": "PythonData",
   "language": "python",
   "name": "pythondata"
  },
  "language_info": {
   "codemirror_mode": {
    "name": "ipython",
    "version": 3
   },
   "file_extension": ".py",
   "mimetype": "text/x-python",
   "name": "python",
   "nbconvert_exporter": "python",
   "pygments_lexer": "ipython3",
   "version": "3.7.7"
  }
 },
 "nbformat": 4,
 "nbformat_minor": 4
}
